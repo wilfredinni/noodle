{
 "cells": [
  {
   "cell_type": "code",
   "execution_count": 4,
   "metadata": {},
   "outputs": [
    {
     "name": "stdout",
     "output_type": "stream",
     "text": [
      "{\"string\": \"string\", \"prefix\": \"prefix\", \"suffix\": \"!\", \"sep\": \" \", \"end\": \"\\n\", \"file\": None, \"flush\": False}\n",
      "\n"
     ]
    }
   ],
   "source": [
    "from noodle import noodle\n",
    "\n",
    "dictionary = {\n",
    "    \"string\": \"string\",\n",
    "    \"prefix\": \"prefix\",\n",
    "    \"suffix\": \"!\",\n",
    "    \"sep\": \" \",\n",
    "    \"end\": \"\\n\",\n",
    "    \"file\": None,\n",
    "    \"flush\": False,\n",
    "}\n",
    "test_list = [1, 2, 3, 4, 5, 1, 2, 3]\n",
    "string = \"Hello World!\"\n",
    "\n",
    "noodle.print(dictionary, line_length=50)"
   ]
  }
 ],
 "metadata": {
  "kernelspec": {
   "display_name": "noodle-2RbsJaRn-py3.10",
   "language": "python",
   "name": "python3"
  },
  "language_info": {
   "codemirror_mode": {
    "name": "ipython",
    "version": 3
   },
   "file_extension": ".py",
   "mimetype": "text/x-python",
   "name": "python",
   "nbconvert_exporter": "python",
   "pygments_lexer": "ipython3",
   "version": "3.10.12"
  }
 },
 "nbformat": 4,
 "nbformat_minor": 2
}
