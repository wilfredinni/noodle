{
 "cells": [
  {
   "cell_type": "code",
   "execution_count": 2,
   "metadata": {},
   "outputs": [
    {
     "name": "stdout",
     "output_type": "stream",
     "text": [
      "{\n",
      "    \"string\": \"string\",\n",
      "    \"prefix\": \"prefix\",\n",
      "    \"suffix\": \"!\",\n",
      "    \"sep\": \" \",\n",
      "    \"end\": \"\\n\",\n",
      "    \"file\": None,\n",
      "    \"flush\": False,\n",
      "}\n",
      "\n",
      "\u001b[;7m\n",
      "                            \n",
      "  (1, 2, 3, 4, 5, 1, 2, 3)  \n",
      "                            \n",
      "\u001b[0m\n"
     ]
    }
   ],
   "source": [
    "from noodle import noodle\n",
    "\n",
    "dictionary = {\n",
    "    \"string\": \"string\",\n",
    "    \"prefix\": \"prefix\",\n",
    "    \"suffix\": \"!\",\n",
    "    \"sep\": \" \",\n",
    "    \"end\": \"\\n\",\n",
    "    \"file\": None,\n",
    "    \"flush\": False,\n",
    "}\n",
    "test_list = (1, 2, 3, 4, 5, 1, 2, 3)\n",
    "string = \"Hello World!\"\n",
    "\n",
    "noodle.print(dictionary, line_length=50)\n",
    "noodle.block(test_list)"
   ]
  },
  {
   "cell_type": "code",
   "execution_count": 2,
   "metadata": {},
   "outputs": [
    {
     "name": "stdout",
     "output_type": "stream",
     "text": [
      "\u001b[;7mThis string is bold and red\u001b[0m\n"
     ]
    }
   ],
   "source": [
    "from noodle.hue import red, bold, bg\n",
    "\n",
    "print(bg('This string is bold and red'))"
   ]
  }
 ],
 "metadata": {
  "kernelspec": {
   "display_name": "noodle-2RbsJaRn-py3.10",
   "language": "python",
   "name": "python3"
  },
  "language_info": {
   "codemirror_mode": {
    "name": "ipython",
    "version": 3
   },
   "file_extension": ".py",
   "mimetype": "text/x-python",
   "name": "python",
   "nbconvert_exporter": "python",
   "pygments_lexer": "ipython3",
   "version": "3.10.12"
  }
 },
 "nbformat": 4,
 "nbformat_minor": 2
}
